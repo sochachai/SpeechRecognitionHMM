{
  "nbformat": 4,
  "nbformat_minor": 0,
  "metadata": {
    "colab": {
      "name": "Untitled13.ipynb",
      "version": "0.3.2",
      "provenance": [],
      "collapsed_sections": []
    },
    "kernelspec": {
      "name": "python3",
      "display_name": "Python 3"
    },
    "accelerator": "GPU"
  },
  "cells": [
    {
      "cell_type": "markdown",
      "metadata": {
        "id": "4huVHFAF8Vx4",
        "colab_type": "text"
      },
      "source": [
        "# Speech Recognition Based on the Hidden Markov Model. "
      ]
    },
    {
      "cell_type": "markdown",
      "metadata": {
        "id": "EHrvJUvU9t5q",
        "colab_type": "text"
      },
      "source": [
        "### This project is an exercise on the application of the hidden markov model on the classification of vowel and consonant letters of a language (English in this exercise) based on some text information.\n",
        "\n",
        "### The idea is based on the hidden markov model, we want to tune the parameters in our model $\\lambda$ such that the probability to observe the given text $O$ (in our case the letters of the A01 file), $P(O|\\lambda)$ is maximized.\n",
        "\n",
        "### The text source used in this exercise is the A01 file of the Brown Corpus (The Brown Corpus of standard American English, http://www.cs.toronto.edu/~gpenn/csc401/a1res.html).\n",
        "\n",
        "### The code is based on Mark Stamp's note on the hidden markov model (https://www.cs.sjsu.edu/~stamp/RUA/HMM.pdf) and is purely established by only using pandas and numpy package.\n",
        "\n",
        "### Google Colab's GPU is used to boost the computation speed."
      ]
    },
    {
      "cell_type": "code",
      "metadata": {
        "id": "e96dAsDkx1bI",
        "colab_type": "code",
        "outputId": "f0cde520-0593-4106-c983-bbfa451ada03",
        "colab": {
          "base_uri": "https://localhost:8080/",
          "height": 122
        }
      },
      "source": [
        "from google.colab import drive \n",
        "drive.mount('/content/gdrive')"
      ],
      "execution_count": 0,
      "outputs": [
        {
          "output_type": "stream",
          "text": [
            "Go to this URL in a browser: https://accounts.google.com/o/oauth2/auth?client_id=947318989803-6bn6qk8qdgf4n4g3pfee6491hc0brc4i.apps.googleusercontent.com&redirect_uri=urn%3Aietf%3Awg%3Aoauth%3A2.0%3Aoob&scope=email%20https%3A%2F%2Fwww.googleapis.com%2Fauth%2Fdocs.test%20https%3A%2F%2Fwww.googleapis.com%2Fauth%2Fdrive%20https%3A%2F%2Fwww.googleapis.com%2Fauth%2Fdrive.photos.readonly%20https%3A%2F%2Fwww.googleapis.com%2Fauth%2Fpeopleapi.readonly&response_type=code\n",
            "\n",
            "Enter your authorization code:\n",
            "··········\n",
            "Mounted at /content/gdrive\n"
          ],
          "name": "stdout"
        }
      ]
    },
    {
      "cell_type": "code",
      "metadata": {
        "id": "NruJmS_SyZQ9",
        "colab_type": "code",
        "outputId": "455d5cb0-e9b6-472c-c69a-b4fa566f14fa",
        "colab": {
          "base_uri": "https://localhost:8080/",
          "height": 34
        }
      },
      "source": [
        "drive.mount('/content/drive')"
      ],
      "execution_count": 0,
      "outputs": [
        {
          "output_type": "stream",
          "text": [
            "Mounted at /content/drive\n"
          ],
          "name": "stdout"
        }
      ]
    },
    {
      "cell_type": "markdown",
      "metadata": {
        "id": "6nB3-b91AZo6",
        "colab_type": "text"
      },
      "source": [
        "### Import pacakages\n"
      ]
    },
    {
      "cell_type": "code",
      "metadata": {
        "id": "AbfKmOeWycDU",
        "colab_type": "code",
        "colab": {}
      },
      "source": [
        "import pandas as pd\n",
        "import numpy as np"
      ],
      "execution_count": 0,
      "outputs": []
    },
    {
      "cell_type": "markdown",
      "metadata": {
        "id": "A7_dXGc-Aet5",
        "colab_type": "text"
      },
      "source": [
        "### Read the text file \"A01\". Preserve only letters and transform them into lower cases.  "
      ]
    },
    {
      "cell_type": "code",
      "metadata": {
        "id": "KSw4lB9syhUc",
        "colab_type": "code",
        "colab": {}
      },
      "source": [
        "with open('/content/drive/My Drive/A01') as f:\n",
        "     raw = f.readlines()"
      ],
      "execution_count": 0,
      "outputs": []
    },
    {
      "cell_type": "code",
      "metadata": {
        "id": "QJIMb3K_yqy_",
        "colab_type": "code",
        "colab": {}
      },
      "source": [
        "from string import ascii_lowercase\n",
        "letters = str()\n",
        "for line in raw:\n",
        "    for index, item in enumerate(line[15:].lower()):\n",
        "        if item in ascii_lowercase:\n",
        "           letters += item"
      ],
      "execution_count": 0,
      "outputs": []
    },
    {
      "cell_type": "markdown",
      "metadata": {
        "id": "Qd0pjdpXA4F3",
        "colab_type": "text"
      },
      "source": [
        "### Establish the initial state distribution Pi, the state transition probability matrix A, and the observation probability matrix B. Note that in this notebook, the B matrix is stored in a python dictionary, named prob_dict. In the following codes, prob_dict takes the place of B.  "
      ]
    },
    {
      "cell_type": "markdown",
      "metadata": {
        "id": "lAYCNgyKCjDL",
        "colab_type": "text"
      },
      "source": [
        "#### Given that we know that a letter is vowel, the probabilities of what the letter is. "
      ]
    },
    {
      "cell_type": "code",
      "metadata": {
        "id": "7d0Jxlz1ytSS",
        "colab_type": "code",
        "outputId": "b1446991-c871-4603-ac3b-4e92926af8b5",
        "colab": {
          "base_uri": "https://localhost:8080/",
          "height": 119
        }
      },
      "source": [
        "np.random.seed(42)\n",
        "vowel_prob = np.random.uniform(size=26)\n",
        "vowel_prob /= vowel_prob.sum()\n",
        "vowel_prob"
      ],
      "execution_count": 0,
      "outputs": [
        {
          "output_type": "execute_result",
          "data": {
            "text/plain": [
              "array([0.03172685, 0.0805339 , 0.06200635, 0.05071166, 0.01321616,\n",
              "       0.01321411, 0.00492019, 0.07337277, 0.05091975, 0.05998   ,\n",
              "       0.00174369, 0.08215993, 0.07051524, 0.017987  , 0.01540218,\n",
              "       0.01553598, 0.025772  , 0.0444515 , 0.03658956, 0.02466968,\n",
              "       0.05182934, 0.01181636, 0.02474723, 0.03103408, 0.03863315,\n",
              "       0.06651134])"
            ]
          },
          "metadata": {
            "tags": []
          },
          "execution_count": 102
        }
      ]
    },
    {
      "cell_type": "markdown",
      "metadata": {
        "id": "ZJeIqZjQDJ0i",
        "colab_type": "text"
      },
      "source": [
        "#### Given that we know that a letter is consonant, the probabilities of what the letter is. "
      ]
    },
    {
      "cell_type": "code",
      "metadata": {
        "id": "sW6MrrR5y55k",
        "colab_type": "code",
        "outputId": "6d21817c-4121-48b8-d6e3-e807a97290c3",
        "colab": {
          "base_uri": "https://localhost:8080/",
          "height": 119
        }
      },
      "source": [
        "np.random.seed(42)\n",
        "consonant_prob = np.random.uniform(low=1,high=2,size=26)\n",
        "consonant_prob /= consonant_prob.sum()\n",
        "consonant_prob"
      ],
      "execution_count": 0,
      "outputs": [
        {
          "output_type": "execute_result",
          "data": {
            "text/plain": [
              "array([0.03635855, 0.05159918, 0.04581371, 0.0422868 , 0.03057834,\n",
              "       0.0305777 , 0.02798782, 0.04936302, 0.04235178, 0.04518096,\n",
              "       0.02699592, 0.05210692, 0.04847072, 0.0320681 , 0.03126096,\n",
              "       0.03130274, 0.03449907, 0.04033198, 0.03787699, 0.03415485,\n",
              "       0.04263581, 0.03014124, 0.03417907, 0.03614222, 0.03851513,\n",
              "       0.04722045])"
            ]
          },
          "metadata": {
            "tags": []
          },
          "execution_count": 103
        }
      ]
    },
    {
      "cell_type": "markdown",
      "metadata": {
        "id": "f4ahLX6NDToc",
        "colab_type": "text"
      },
      "source": [
        "#### Initialization of Pi, A, B and prob_dict. Note that prob_dict takes the place of B for functioning in the rest of the codes."
      ]
    },
    {
      "cell_type": "code",
      "metadata": {
        "id": "vASwVuFvz3ul",
        "colab_type": "code",
        "colab": {}
      },
      "source": [
        "Pi = np.array([0.3,0.7])\n",
        "A = np.array([[0.49,0.51],[0.52,0.48]])\n",
        "B = np.array([vowel_prob,consonant_prob])\n",
        "prob_dict = {item[0]: list(item[1]) for item in zip(np.array(['a','b','c','d','e','f','g','h','i','j','k','l','m','n','o','p','q',\\\n",
        "                                                              'r','s','t','u','v','w','x','y','z']),B.T)}"
      ],
      "execution_count": 0,
      "outputs": []
    },
    {
      "cell_type": "markdown",
      "metadata": {
        "id": "il_N2I1HCS4p",
        "colab_type": "text"
      },
      "source": [
        "### The Alpha-pass function "
      ]
    },
    {
      "cell_type": "code",
      "metadata": {
        "id": "Qok1xnhU0QrQ",
        "colab_type": "code",
        "colab": {}
      },
      "source": [
        "def forward_pass(Pi, A, prob_dict):\n",
        "    # alpha_{0}\n",
        "    c = [1/(Pi[0]*prob_dict[letters[0]][0] + Pi[1]*prob_dict[letters[0]][1])]\n",
        "    alpha = [[Pi[0]*prob_dict[letters[0]][0]*c[0], Pi[1]*prob_dict[letters[0]][1]*c[0]]] \n",
        "    # alpha_{t} t = 1,...,T-1\n",
        "    for t in range(1,len(letters)):\n",
        "        c += [0]\n",
        "        alpha += [[0,0]]\n",
        "    for t in range(1,len(letters)):    \n",
        "        for i in range(2):\n",
        "            alpha[t][i] += (alpha[t-1][0]*A[0][i] + alpha[t-1][1]*A[1][i])*prob_dict[letters[t]][i]    \n",
        "        c[t] = 1/(alpha[t][0] + alpha[t][1])    \n",
        "        alpha[t][0] = alpha[t][0]*c[t] # alpha_hat\n",
        "        alpha[t][1] = alpha[t][1]*c[t] # alpha_hat\n",
        "    return [alpha,c]\n",
        "\n",
        "#forward_pass(Pi,A,prob_dict)[0] # this gives alpha, uncomment to test\n",
        "#forward_pass(Pi,A,prob_dict)[1] # this gives c, uncomment to test"
      ],
      "execution_count": 0,
      "outputs": []
    },
    {
      "cell_type": "markdown",
      "metadata": {
        "id": "7p6XcEcOCZS7",
        "colab_type": "text"
      },
      "source": [
        "### The Beta-pass function"
      ]
    },
    {
      "cell_type": "code",
      "metadata": {
        "id": "C0jhCP0i1s6h",
        "colab_type": "code",
        "colab": {}
      },
      "source": [
        "def backward_pass(Pi, A, prob_dict):\n",
        "    # initialization\n",
        "    beta = []\n",
        "    for t in range(0,len(letters)):\n",
        "        beta += [[0,0]]\n",
        "    c = forward_pass(Pi,A,prob_dict)[1]\n",
        "    # beta_{T-1}\n",
        "    beta[len(letters)-1]=[c[len(letters)-1],c[len(letters)-1]]\n",
        "    \n",
        "    # beta_{t} t = T-2, ..., 0\n",
        "    for t in range(len(letters)-2,-1,-1):\n",
        "        for i in range(2):\n",
        "            for j in range(2):\n",
        "                beta[t][i] += A[i][j]*prob_dict[letters[t+1]][j]*beta[t+1][j]\n",
        "            beta[t][i] *= c[t] # beta_hat\n",
        "    return beta\n",
        "\n",
        "# backward_pass(Pi, A, prob_dict) # uncomment to test"
      ],
      "execution_count": 0,
      "outputs": []
    },
    {
      "cell_type": "markdown",
      "metadata": {
        "id": "aVNB8gg7DvwE",
        "colab_type": "text"
      },
      "source": [
        "### The gamma_functions returns di-gamma(denoted by Gamma) and gamma "
      ]
    },
    {
      "cell_type": "code",
      "metadata": {
        "id": "LaSUcZNE5Adz",
        "colab_type": "code",
        "colab": {}
      },
      "source": [
        "def gamma_functions(Pi, A, prob_dict):\n",
        "    # initialization \n",
        "    Gamma = [] # Gamma_{t}(i) = P(x_{t}=q_{i}|O,lambda) for t = 0,...,T-1; i=0,1\n",
        "    gamma = [] # gamma_{t}(i,j) = P(x_{t}=q_{i},x_{t+1}=q_{j}|O,lambda) for t = 0,...,T-1; i,j=0,1\n",
        "    alpha = forward_pass(Pi,A,prob_dict)[0]\n",
        "    beta = backward_pass(Pi, A, prob_dict)\n",
        "    for t in range(0,len(letters)):\n",
        "        Gamma += [[0,0]]\n",
        "        gamma += [[[0,0],[0,0]]]\n",
        "    \n",
        "    # Real computation begins\n",
        "    for t in range(0,len(letters)-1):\n",
        "        for i in range(2):\n",
        "            for j in range(2):\n",
        "                gamma[t][i][j] += alpha[t][i]*A[i][j]*prob_dict[letters[t+1]][j]*beta[t+1][j]\n",
        "                Gamma[t][i] += gamma[t][i][j]\n",
        "\n",
        "    # Gamma_{T-1} is special and cannot be generated by induction\n",
        "    Gamma[len(letters)-1] = alpha[len(letters)-1]\n",
        "    \n",
        "    return [Gamma, gamma]\n",
        "\n",
        "#gamma_functions(Pi,A,prob_dict)[0] # this gives Gamma, uncomment to test\n",
        "#gamma_functions(Pi,A,prob_dict)[1] # this gives gamma, uncomment to test"
      ],
      "execution_count": 0,
      "outputs": []
    },
    {
      "cell_type": "markdown",
      "metadata": {
        "id": "F8I1fir2EByW",
        "colab_type": "text"
      },
      "source": [
        "### Update Pi, A and prob_dict based on 1 round of iteration"
      ]
    },
    {
      "cell_type": "code",
      "metadata": {
        "id": "TJGCQcwV9UtC",
        "colab_type": "code",
        "colab": {}
      },
      "source": [
        "def model_update(Pi, A, prob_dict):\n",
        "\n",
        "    # Initialization\n",
        "    A_new = [[0,0],[0,0]]\n",
        "    B_new = np.zeros(B.shape)\n",
        "    prob_dict_new = {item[0]: list(item[1]) for item in zip(np.array(['a','b','c','d','e','f','g','h','i','j','k','l','m','n','o','p','q','r',\\\n",
        "                                                                      's','t','u','v','w','x','y','z']), B_new.T)}\n",
        "    [Gamma, gamma] = gamma_functions(Pi,A,prob_dict)\n",
        "    \n",
        "    # Update Pi\n",
        "    Pi_new = Gamma[0]                                             \n",
        "    \n",
        "    # Update A\n",
        "    for i in range(2):\n",
        "        denom = 0\n",
        "        for t in range(len(letters)-1):\n",
        "            denom += Gamma[t][i]\n",
        "        for j in range(2):\n",
        "            numer = 0\n",
        "            for t in range(len(letters)-1):\n",
        "                numer += gamma[t][i][j]\n",
        "            A_new[i][j] = numer/denom\n",
        "    \n",
        "    # Update prob_dict\n",
        "    for j in range(2):\n",
        "        for index, item in enumerate(prob_dict.keys()):\n",
        "            numer = 0\n",
        "            for t in range(len(letters)):   \n",
        "                if letters[t] == item:\n",
        "                   numer += Gamma[t][j]\n",
        "\n",
        "            denom = 0\n",
        "            for t in range(len(letters)):\n",
        "                denom += Gamma[t][j]\n",
        "\n",
        "            prob_dict_new[item][j] = numer/denom\n",
        "            \n",
        "    return [Pi_new, A_new, prob_dict_new]\n",
        "\n",
        "#model_update(Pi,A,prob_dict)[0] # this gives Pi_new, uncomment to test\n",
        "#model_update(Pi,A,prob_dict)[1] # this gives A_new, uncomment to test\n",
        "#model_update(Pi,A,prob_dict)[2] # this gives prob_dict_new, uncomment to test"
      ],
      "execution_count": 0,
      "outputs": []
    },
    {
      "cell_type": "markdown",
      "metadata": {
        "id": "ue59DGr7EPCk",
        "colab_type": "text"
      },
      "source": [
        "### Calculate the log of P(O|lambda). We will denote it by log probability in the following contexts."
      ]
    },
    {
      "cell_type": "code",
      "metadata": {
        "id": "JlNXq2cmDTYd",
        "colab_type": "code",
        "outputId": "94ae1c11-34e6-40e8-87da-eca8b9439f00",
        "colab": {
          "base_uri": "https://localhost:8080/",
          "height": 34
        }
      },
      "source": [
        "def LogProb(Pi,A,prob_dict):\n",
        "    c = forward_pass(Pi,A,prob_dict)[1]\n",
        "    logProb = np.sum([-np.log(item) for index, item in enumerate(c)])\n",
        "    return logProb\n",
        "#LogProb(Pi,A,prob_dict) #uncomment to test"
      ],
      "execution_count": 0,
      "outputs": [
        {
          "output_type": "execute_result",
          "data": {
            "text/plain": [
              "-33087.467649533646"
            ]
          },
          "metadata": {
            "tags": []
          },
          "execution_count": 109
        }
      ]
    },
    {
      "cell_type": "markdown",
      "metadata": {
        "id": "JRmcBB1-EnAm",
        "colab_type": "text"
      },
      "source": [
        "### Return Pi, A, prob_dict and log_prob based on many iterations"
      ]
    },
    {
      "cell_type": "code",
      "metadata": {
        "id": "IkX8JZV4E4ar",
        "colab_type": "code",
        "colab": {}
      },
      "source": [
        "def improvement(Pi,A,prob_dict,max_iters=100):\n",
        "    # initialization\n",
        "    [Pi_new, A_new, prob_dict_new] =  [model_update(Pi,A,prob_dict)[0],model_update(Pi,A,prob_dict)[1],model_update(Pi,A,prob_dict)[2]]\n",
        "    print(\"LogProb was \", LogProb(Pi,A,prob_dict), \" initially.\")\n",
        "    \n",
        "    # iteration\n",
        "    for rounds in range(1,max_iters+1):\n",
        "        if LogProb(Pi_new, A_new, prob_dict_new) > LogProb(Pi,A,prob_dict):\n",
        "           [Pi, A, prob_dict] = [Pi_new, A_new, prob_dict_new]\n",
        "           [Pi_new, A_new, prob_dict_new] =  [model_update(Pi,A,prob_dict)[0],model_update(Pi,A,prob_dict)[1],model_update(Pi,A,prob_dict)[2]]\n",
        "        else:\n",
        "           break\n",
        "    \n",
        "    # see the improvement\n",
        "    print(\"LogProb after model improvement is \", LogProb(Pi,A,prob_dict),\". No improvement after rounds = \", rounds)\n",
        "    \n",
        "    # store results\n",
        "    return [Pi,A,prob_dict,LogProb(Pi, A, prob_dict)]"
      ],
      "execution_count": 0,
      "outputs": []
    },
    {
      "cell_type": "markdown",
      "metadata": {
        "id": "Hk-aoK6qFOCt",
        "colab_type": "text"
      },
      "source": [
        "### Compare the log probability before and after the model improvement"
      ]
    },
    {
      "cell_type": "code",
      "metadata": {
        "id": "fLtzJJK5JZXM",
        "colab_type": "code",
        "outputId": "5341ed9d-5958-4435-973e-a857d4c2012e",
        "colab": {
          "base_uri": "https://localhost:8080/",
          "height": 68
        }
      },
      "source": [
        "import time\n",
        "t = time.time()\n",
        "[Pi,A,prob_dict,LogProb] = improvement(Pi,A,prob_dict,max_iters=600)\n",
        "elapsed = time.time()-t\n",
        "print(\"Elapsed time = %3f s\" % elapsed)"
      ],
      "execution_count": 0,
      "outputs": [
        {
          "output_type": "stream",
          "text": [
            "LogProb was  -33087.467649533646  initially.\n",
            "LogProb after model improvement is  -27335.31943339151 . No improvement after rounds =  580\n",
            "Elapsed time = 605.729870 s\n"
          ],
          "name": "stdout"
        }
      ]
    },
    {
      "cell_type": "markdown",
      "metadata": {
        "id": "CO7TACnGFa32",
        "colab_type": "text"
      },
      "source": [
        "### Check the probability dictionary as a result of the classification"
      ]
    },
    {
      "cell_type": "code",
      "metadata": {
        "id": "ivlftZczagcs",
        "colab_type": "code",
        "outputId": "5d698c82-6a31-49bc-dd3b-4c9efad43c8a",
        "colab": {
          "base_uri": "https://localhost:8080/",
          "height": 459
        }
      },
      "source": [
        "prob_dict"
      ],
      "execution_count": 0,
      "outputs": [
        {
          "output_type": "execute_result",
          "data": {
            "text/plain": [
              "{'a': [2.237865742748161e-86, 0.17902513518899055],\n",
              " 'b': [0.02578187984392702, 1.2736095711650727e-78],\n",
              " 'c': [0.058055599936325156, 6.157277171693479e-22],\n",
              " 'd': [0.06847071668612187, 0.015414362222687541],\n",
              " 'e': [1.9503429760695933e-123, 0.280578733449753],\n",
              " 'f': [0.041176815290301254, 5.50957207179156e-83],\n",
              " 'g': [0.027135928978070448, 0.006747475957405909],\n",
              " 'h': [0.08420844208016491, 9.451234246658183e-52],\n",
              " 'i': [0.002719469543629551, 0.1593365271867376],\n",
              " 'j': [0.007604727148208944, 4.664493200145862e-85],\n",
              " 'k': [0.005686765974283661, 0.001440485335258529],\n",
              " 'l': [0.07790208298164994, 3.360953593038864e-48],\n",
              " 'm': [0.042475183339995226, 3.622481366665757e-129],\n",
              " 'n': [0.11963534172182012, 6.481082374642712e-163],\n",
              " 'o': [6.061398193758767e-28, 0.17061913264839074],\n",
              " 'p': [0.037611466389383404, 0.004594258207885072],\n",
              " 'q': [0.0014838491996504496, 0.0],\n",
              " 'r': [0.1200063040217328, 5.587221838873392e-212],\n",
              " 's': [0.10602422021598874, 0.007129829376160406],\n",
              " 't': [0.10695615218705651, 0.08595895784418782],\n",
              " 'u': [8.046284143436556e-18, 0.0656576955198209],\n",
              " 'v': [0.019475520745412474, 0.0],\n",
              " 'w': [0.028240165460264414, 0.002668664904546209],\n",
              " 'x': [0.003709622999126209, 6.841396531431241e-178],\n",
              " 'y': [0.014526858357177057, 0.020828742158194278],\n",
              " 'z': [0.0011128868997378825, 0.0]}"
            ]
          },
          "metadata": {
            "tags": []
          },
          "execution_count": 112
        }
      ]
    },
    {
      "cell_type": "markdown",
      "metadata": {
        "id": "u-VJ-4dQFrx7",
        "colab_type": "text"
      },
      "source": [
        "### Verify that each column sums up to 1."
      ]
    },
    {
      "cell_type": "code",
      "metadata": {
        "id": "DSnhubcxXfeb",
        "colab_type": "code",
        "outputId": "014dbf85-462d-4af4-da90-bd6d6fa6d653",
        "colab": {
          "base_uri": "https://localhost:8080/",
          "height": 34
        }
      },
      "source": [
        "np.sum([prob_dict_new[item][0] for index, item in enumerate(prob_dict_new.keys())])"
      ],
      "execution_count": 0,
      "outputs": [
        {
          "output_type": "execute_result",
          "data": {
            "text/plain": [
              "1.0000000000000118"
            ]
          },
          "metadata": {
            "tags": []
          },
          "execution_count": 113
        }
      ]
    },
    {
      "cell_type": "code",
      "metadata": {
        "id": "-93uNqbca9fZ",
        "colab_type": "code",
        "outputId": "d74964fd-82f3-4016-db9f-ca21a423f0b4",
        "colab": {
          "base_uri": "https://localhost:8080/",
          "height": 34
        }
      },
      "source": [
        "np.sum([prob_dict_new[item][1] for index, item in enumerate(prob_dict_new.keys())])"
      ],
      "execution_count": 0,
      "outputs": [
        {
          "output_type": "execute_result",
          "data": {
            "text/plain": [
              "1.000000000000009"
            ]
          },
          "metadata": {
            "tags": []
          },
          "execution_count": 114
        }
      ]
    },
    {
      "cell_type": "markdown",
      "metadata": {
        "id": "weyzAvj_JTMj",
        "colab_type": "text"
      },
      "source": [
        "## The Result"
      ]
    },
    {
      "cell_type": "markdown",
      "metadata": {
        "id": "GI4fm85FGKJQ",
        "colab_type": "text"
      },
      "source": [
        "#### Letters 'a', 'e', 'o', 'u' have relatively small probabilities in the first column. This is a sign that a vowel letter is very likely to be one of these four letters.\n",
        "#### Letters 'a', 'e', 'i', 'o' have relatively high probabilities in the second column. This is a sign that a consonant letter is very unlikely to be one of these four letters.\n",
        "#### To summarize, we have some evidence that the vowel letters in English are 'a', 'e', 'i', 'o', 'u'.\n"
      ]
    }
  ]
}